{
 "cells": [
  {
   "cell_type": "markdown",
   "metadata": {},
   "source": [
    "# ANSWER NO. 1"
   ]
  },
  {
   "cell_type": "code",
   "execution_count": 4,
   "metadata": {},
   "outputs": [
    {
     "name": "stdout",
     "output_type": "stream",
     "text": [
      "Enter your marks:(0-100): 100\n",
      "|-----|\n",
      "|  A  |\n",
      "|-----|\n"
     ]
    }
   ],
   "source": [
    "marks = input(\"Enter your marks:(0-100): \")\n",
    "marks = int(marks)\n",
    "if marks > 100:\n",
    "    answer = \"Invalid\"\n",
    "elif marks > 90:\n",
    "    answer = \"A\"\n",
    "elif marks > 80:\n",
    "    answer = \"B\"\n",
    "elif marks > 70:\n",
    "    answer = \"C\"\n",
    "elif marks > 60:\n",
    "    answer = \"D\"\n",
    "elif marks > 50:\n",
    "    answer = \"E\"\n",
    "else:\n",
    "    answer = \"F\"\n",
    "    \n",
    "top = \"|-----|\"\n",
    "middle = \"|  \" + answer + \"  |\"\n",
    "bottom = top\n",
    "\n",
    "print(top)\n",
    "print(middle)\n",
    "print(bottom)\n"
   ]
  },
  {
   "cell_type": "code",
   "execution_count": null,
   "metadata": {},
   "outputs": [],
   "source": []
  },
  {
   "cell_type": "markdown",
   "metadata": {},
   "source": [
    "# ANSWER No. 2"
   ]
  },
  {
   "cell_type": "code",
   "execution_count": 8,
   "metadata": {},
   "outputs": [
    {
     "name": "stdout",
     "output_type": "stream",
     "text": [
      "158\n"
     ]
    }
   ],
   "source": [
    "import random\n",
    "print(random.randint(1, 250))"
   ]
  },
  {
   "cell_type": "code",
   "execution_count": 9,
   "metadata": {},
   "outputs": [
    {
     "name": "stdout",
     "output_type": "stream",
     "text": [
      "Enter your guessed score(1-250): 67\n",
      "You don't watch that much! :P\n"
     ]
    }
   ],
   "source": [
    "computer_guess = random.randint(1, 250)\n",
    "user_guess = int(input(\"Enter your guessed score(1-250): \"))\n",
    "\n",
    "if user_guess < 1 or user_guess > 250:\n",
    "    print(\"Reduce your expectation for 20-20 match !\")\n",
    "elif abs(computer_guess - user_guess) <= 10:\n",
    "    print(\"Close By, You are true Indian fan!\")\n",
    "else:\n",
    "    print(\"You don't watch that much! :P\")"
   ]
  },
  {
   "cell_type": "code",
   "execution_count": 10,
   "metadata": {},
   "outputs": [
    {
     "name": "stdout",
     "output_type": "stream",
     "text": [
      "User Guess: 67\n",
      "Computer Guess: 123\n"
     ]
    }
   ],
   "source": [
    "\n",
    "print(\"User Guess:\", user_guess)\n",
    "print(\"Computer Guess:\",computer_guess)"
   ]
  },
  {
   "cell_type": "code",
   "execution_count": null,
   "metadata": {},
   "outputs": [],
   "source": []
  },
  {
   "cell_type": "markdown",
   "metadata": {},
   "source": [
    "# ANSWER NO. 3"
   ]
  },
  {
   "cell_type": "code",
   "execution_count": 12,
   "metadata": {},
   "outputs": [
    {
     "name": "stdout",
     "output_type": "stream",
     "text": [
      "I love FCS\n"
     ]
    }
   ],
   "source": [
    "f = open(\"sample.txt\", \"w\")\n",
    "f.write(\"I love FCS\")\n",
    "f.close()\n",
    "\n",
    "with open(\"sample.txt\", \"r\") as f:\n",
    "    content = f.read()\n",
    "    print(content)\n"
   ]
  },
  {
   "cell_type": "code",
   "execution_count": null,
   "metadata": {},
   "outputs": [],
   "source": []
  },
  {
   "cell_type": "markdown",
   "metadata": {},
   "source": [
    "# ANSWER NO. 4"
   ]
  },
  {
   "cell_type": "code",
   "execution_count": 15,
   "metadata": {},
   "outputs": [
    {
     "name": "stdout",
     "output_type": "stream",
     "text": [
      "5\n",
      "3\n",
      "4 5\n",
      "UPLOAD ANOTHER\n",
      "8 8\n",
      "ACCEPTED\n",
      "5 6\n",
      "CROP IT\n"
     ]
    }
   ],
   "source": [
    "L = int(input())\n",
    "N = int(input())\n",
    "\n",
    "for n in range(N):\n",
    "    W, H = input().split(\" \")\n",
    "    W, H = int(W), int(H)\n",
    "    \n",
    "    if W < L or H < L:\n",
    "        print(\"Upload Another\".upper())\n",
    "    elif W > L and H > L and W == H:\n",
    "        print(\"ACCEPTED\")\n",
    "    else:\n",
    "        print(\"CROP IT\")\n"
   ]
  },
  {
   "cell_type": "code",
   "execution_count": null,
   "metadata": {},
   "outputs": [],
   "source": []
  },
  {
   "cell_type": "markdown",
   "metadata": {},
   "source": [
    "# ANSWER No. 5"
   ]
  },
  {
   "cell_type": "code",
   "execution_count": 16,
   "metadata": {},
   "outputs": [
    {
     "name": "stdout",
     "output_type": "stream",
     "text": [
      "Enter Command:LURDLLRD\n",
      "The command is: LURDLLRD\n",
      "The final position is: [-1, -1]\n"
     ]
    }
   ],
   "source": [
    "command_string = input(\"Enter Command:\")\n",
    "print(\"The command is:\", command_string)\n",
    "\n",
    "position = [0, 0]\n",
    "\n",
    "for char in command_string:\n",
    "    if char == \"L\":\n",
    "        position[0] -= 1\n",
    "    elif char == \"R\":\n",
    "        position[0] += 1\n",
    "    elif char == \"U\":\n",
    "        position[1] += 1\n",
    "    else:\n",
    "        position[1] -= 1\n",
    "        \n",
    "print(\"The final position is:\", position)"
   ]
  },
  {
   "cell_type": "code",
   "execution_count": null,
   "metadata": {},
   "outputs": [],
   "source": []
  },
  {
   "cell_type": "markdown",
   "metadata": {},
   "source": [
    "## Done by Akash Maji, akashmaji946@gmail.com for FCS, Batch-3, Day-3 Assignment\n",
    "## Contact: 9131697371"
   ]
  },
  {
   "cell_type": "markdown",
   "metadata": {},
   "source": []
  },
  {
   "cell_type": "code",
   "execution_count": null,
   "metadata": {},
   "outputs": [],
   "source": []
  }
 ],
 "metadata": {
  "kernelspec": {
   "display_name": "Python 3",
   "language": "python",
   "name": "python3"
  },
  "language_info": {
   "codemirror_mode": {
    "name": "ipython",
    "version": 3
   },
   "file_extension": ".py",
   "mimetype": "text/x-python",
   "name": "python",
   "nbconvert_exporter": "python",
   "pygments_lexer": "ipython3",
   "version": "3.7.0"
  }
 },
 "nbformat": 4,
 "nbformat_minor": 2
}
