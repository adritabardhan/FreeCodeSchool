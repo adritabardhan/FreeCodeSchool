{
 "cells": [
  {
   "cell_type": "markdown",
   "metadata": {},
   "source": [
    "# Solution 1"
   ]
  },
  {
   "cell_type": "markdown",
   "metadata": {},
   "source": [
    "### This function takes two arguments and checks if they can divide, if yes then outputs result"
   ]
  },
  {
   "cell_type": "code",
   "execution_count": 20,
   "metadata": {},
   "outputs": [],
   "source": [
    "def find_same(func):\n",
    "   def inner(a,b):\n",
    "      print(\"I am going to check if a and b are same\")\n",
    "      if isinstance(a, (int,float)) and isinstance(b,(int,float)):\n",
    "         print(\"Hey, both a and b can divide\")\n",
    "         if b==0:\n",
    "            print(\"Cant divide by 0\")\n",
    "            return\n",
    "        \n",
    "      \n",
    "      elif isinstance(a, str) or isinstance(b,str):\n",
    "         print(\"Hey, atleast one is str, can't divide\")\n",
    "      \n",
    "         return\n",
    "      \n",
    "\n",
    "      return func(a,b)\n",
    "   return inner\n",
    "\n",
    "@find_same\n",
    "def divide(a,b):\n",
    "    return a/b"
   ]
  },
  {
   "cell_type": "code",
   "execution_count": 21,
   "metadata": {},
   "outputs": [
    {
     "name": "stdout",
     "output_type": "stream",
     "text": [
      "I am going to check if a and b are same\n",
      "Hey, atleast one is str, can't divide\n"
     ]
    }
   ],
   "source": [
    "divide(2,\"a\")"
   ]
  },
  {
   "cell_type": "code",
   "execution_count": 22,
   "metadata": {},
   "outputs": [
    {
     "name": "stdout",
     "output_type": "stream",
     "text": [
      "I am going to check if a and b are same\n",
      "Hey, both a and b can divide\n"
     ]
    },
    {
     "data": {
      "text/plain": [
       "0.2222222222222222"
      ]
     },
     "execution_count": 22,
     "metadata": {},
     "output_type": "execute_result"
    }
   ],
   "source": [
    "divide(2,9)"
   ]
  },
  {
   "cell_type": "code",
   "execution_count": 23,
   "metadata": {},
   "outputs": [
    {
     "name": "stdout",
     "output_type": "stream",
     "text": [
      "I am going to check if a and b are same\n",
      "Hey, both a and b can divide\n",
      "Cant divide by 0\n"
     ]
    }
   ],
   "source": [
    "divide(3,0)"
   ]
  },
  {
   "cell_type": "code",
   "execution_count": 24,
   "metadata": {},
   "outputs": [
    {
     "name": "stdout",
     "output_type": "stream",
     "text": [
      "I am going to check if a and b are same\n",
      "Hey, both a and b can divide\n",
      "Cant divide by 0\n"
     ]
    }
   ],
   "source": [
    "divide(.980, 0.0)"
   ]
  },
  {
   "cell_type": "code",
   "execution_count": null,
   "metadata": {},
   "outputs": [],
   "source": []
  },
  {
   "cell_type": "markdown",
   "metadata": {},
   "source": [
    "#### Done by AKASH MAJI, akashmaji946@gmail.com\n",
    "### Day 7, Batch 3, Assignment"
   ]
  },
  {
   "cell_type": "code",
   "execution_count": null,
   "metadata": {},
   "outputs": [],
   "source": []
  }
 ],
 "metadata": {
  "kernelspec": {
   "display_name": "Python 3",
   "language": "python",
   "name": "python3"
  },
  "language_info": {
   "codemirror_mode": {
    "name": "ipython",
    "version": 3
   },
   "file_extension": ".py",
   "mimetype": "text/x-python",
   "name": "python",
   "nbconvert_exporter": "python",
   "pygments_lexer": "ipython3",
   "version": "3.7.0"
  }
 },
 "nbformat": 4,
 "nbformat_minor": 2
}
