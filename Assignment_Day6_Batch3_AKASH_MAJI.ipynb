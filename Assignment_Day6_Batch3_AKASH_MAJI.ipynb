{
 "cells": [
  {
   "cell_type": "markdown",
   "metadata": {},
   "source": [
    "# Solution 2"
   ]
  },
  {
   "cell_type": "markdown",
   "metadata": {},
   "source": [
    "## pylint importing and checking pythonic style "
   ]
  },
  {
   "cell_type": "code",
   "execution_count": 1,
   "metadata": {},
   "outputs": [
    {
     "name": "stdout",
     "output_type": "stream",
     "text": [
      "Requirement already satisfied: pylint in c:\\users\\akash maji\\appdata\\roaming\\python\\python37\\site-packages (2.3.1)\n",
      "Requirement already satisfied: isort<5,>=4.2.5 in c:\\users\\akash maji\\appdata\\roaming\\python\\python37\\site-packages (from pylint) (4.3.15)\n",
      "Requirement already satisfied: astroid<3,>=2.2.0 in c:\\users\\akash maji\\appdata\\roaming\\python\\python37\\site-packages (from pylint) (2.2.5)\n",
      "Requirement already satisfied: colorama; sys_platform == \"win32\" in c:\\users\\akash maji\\appdata\\roaming\\python\\python37\\site-packages (from pylint) (0.4.1)\n",
      "Requirement already satisfied: mccabe<0.7,>=0.6 in c:\\users\\akash maji\\appdata\\roaming\\python\\python37\\site-packages (from pylint) (0.6.1)\n",
      "Requirement already satisfied: lazy-object-proxy in c:\\users\\akash maji\\appdata\\roaming\\python\\python37\\site-packages (from astroid<3,>=2.2.0->pylint) (1.3.1)\n",
      "Requirement already satisfied: six in c:\\users\\akash maji\\appdata\\roaming\\python\\python37\\site-packages (from astroid<3,>=2.2.0->pylint) (1.12.0)\n",
      "Requirement already satisfied: typed-ast>=1.3.0; implementation_name == \"cpython\" in c:\\users\\akash maji\\appdata\\roaming\\python\\python37\\site-packages (from astroid<3,>=2.2.0->pylint) (1.3.1)\n",
      "Requirement already satisfied: wrapt in c:\\users\\akash maji\\appdata\\roaming\\python\\python37\\site-packages (from astroid<3,>=2.2.0->pylint) (1.11.1)\n"
     ]
    },
    {
     "name": "stderr",
     "output_type": "stream",
     "text": [
      "WARNING: You are using pip version 20.0.2; however, version 20.1 is available.\n",
      "You should consider upgrading via the 'c:\\programdata\\anaconda3\\python.exe -m pip install --upgrade pip' command.\n"
     ]
    }
   ],
   "source": [
    "!pip install pylint"
   ]
  },
  {
   "cell_type": "code",
   "execution_count": 2,
   "metadata": {},
   "outputs": [
    {
     "name": "stdout",
     "output_type": "stream",
     "text": [
      "Overwriting sample_file.py\n"
     ]
    }
   ],
   "source": [
    "%%writefile sample_file.py\n",
    "\"\"\"This is a sample file for checking\n",
    "pylint features\"\"\"\n",
    "def is_prime(num):\n",
    "    \"\"\"This fuction checks whether a number is prime or not\n",
    "    Input: A Number \n",
    "    Output: True/False\"\"\"\n",
    "    if num < 2:\n",
    "        return False\n",
    "    for factor in range(2, num):\n",
    "        if num % factor == 0:\n",
    "            return False\n",
    "    return True\n",
    "\n"
   ]
  },
  {
   "cell_type": "code",
   "execution_count": 3,
   "metadata": {},
   "outputs": [
    {
     "name": "stdout",
     "output_type": "stream",
     "text": [
      "\"\"\"This is a sample file for checking\n",
      "pylint features\"\"\"\n",
      "def is_prime(num):\n",
      "    \"\"\"This fuction checks whether a number is prime or not\n",
      "    Input: A Number \n",
      "    Output: True/False\"\"\"\n",
      "    if num < 2:\n",
      "        return False\n",
      "    for factor in range(2, num):\n",
      "        if num % factor == 0:\n",
      "            return False\n",
      "    return True\n"
     ]
    }
   ],
   "source": [
    "!cat sample_file.py"
   ]
  },
  {
   "cell_type": "code",
   "execution_count": 4,
   "metadata": {},
   "outputs": [
    {
     "name": "stdout",
     "output_type": "stream",
     "text": [
      "************* Module sample_file\n",
      "sample_file.py:5:19: C0303: Trailing whitespace (trailing-whitespace)\n",
      "\n",
      "------------------------------------------------------------------\n",
      "\n",
      "Your code has been rated at 8.57/10 (previous run: 8.57/10, +0.00)\n",
      "\n",
      "\n",
      "\n"
     ]
    }
   ],
   "source": [
    "!pylint sample_file.py"
   ]
  },
  {
   "cell_type": "markdown",
   "metadata": {},
   "source": [
    "## writing unit testing class to a file and executing it"
   ]
  },
  {
   "cell_type": "code",
   "execution_count": 5,
   "metadata": {},
   "outputs": [
    {
     "name": "stdout",
     "output_type": "stream",
     "text": [
      "Overwriting my_unit_testing.py\n"
     ]
    }
   ],
   "source": [
    "%%writefile my_unit_testing.py\n",
    "\"\"\"This is a sample file for the purpose of unit testing\"\"\"\n",
    "import unittest\n",
    "import sample_file\n",
    "class CheckPrime(unittest.TestCase):\n",
    "    \"\"\"This class has 2 methods for each prime and non prime test\"\"\"\n",
    "    def test_case_one(self):\n",
    "        number = 7\n",
    "        result = sample_file.is_prime(number)\n",
    "        self.assertEqual(result, True)\n",
    "    def test_case_two(self):\n",
    "        number = 10\n",
    "        result = sample_file.is_prime(number)\n",
    "        self.assertEqual(result, False)\n",
    "\n",
    "if __name__ == \"__main__\":\n",
    "    unittest.main()\n",
    "        \n",
    "        "
   ]
  },
  {
   "cell_type": "code",
   "execution_count": 6,
   "metadata": {},
   "outputs": [
    {
     "name": "stderr",
     "output_type": "stream",
     "text": [
      "..\n",
      "----------------------------------------------------------------------\n",
      "Ran 2 tests in 0.000s\n",
      "\n",
      "OK\n"
     ]
    }
   ],
   "source": [
    "!python my_unit_testing.py"
   ]
  },
  {
   "cell_type": "code",
   "execution_count": null,
   "metadata": {},
   "outputs": [],
   "source": []
  },
  {
   "cell_type": "markdown",
   "metadata": {},
   "source": [
    "# Solution 1"
   ]
  },
  {
   "cell_type": "markdown",
   "metadata": {},
   "source": [
    "### without exception handling"
   ]
  },
  {
   "cell_type": "code",
   "execution_count": 7,
   "metadata": {},
   "outputs": [
    {
     "name": "stdout",
     "output_type": "stream",
     "text": [
      "Enter two numbers to find the remainder: \n",
      "12\n",
      "5\n",
      "The remainder is :  2\n"
     ]
    }
   ],
   "source": [
    "print(\"Enter two numbers to find the remainder: \")\n",
    "num = int(input())\n",
    "den = int(input())\n",
    "\n",
    "rem = num % den\n",
    "\n",
    "print(\"The remainder is : \", rem)"
   ]
  },
  {
   "cell_type": "code",
   "execution_count": 8,
   "metadata": {},
   "outputs": [
    {
     "name": "stdout",
     "output_type": "stream",
     "text": [
      "Enter two numbers to find the remainder: \n",
      "13\n",
      "0\n"
     ]
    },
    {
     "ename": "ZeroDivisionError",
     "evalue": "integer division or modulo by zero",
     "output_type": "error",
     "traceback": [
      "\u001b[1;31m---------------------------------------------------------------------------\u001b[0m",
      "\u001b[1;31mZeroDivisionError\u001b[0m                         Traceback (most recent call last)",
      "\u001b[1;32m<ipython-input-8-a4ae5dc4185b>\u001b[0m in \u001b[0;36m<module>\u001b[1;34m()\u001b[0m\n\u001b[0;32m      3\u001b[0m \u001b[0mden\u001b[0m \u001b[1;33m=\u001b[0m \u001b[0mint\u001b[0m\u001b[1;33m(\u001b[0m\u001b[0minput\u001b[0m\u001b[1;33m(\u001b[0m\u001b[1;33m)\u001b[0m\u001b[1;33m)\u001b[0m\u001b[1;33m\u001b[0m\u001b[0m\n\u001b[0;32m      4\u001b[0m \u001b[1;33m\u001b[0m\u001b[0m\n\u001b[1;32m----> 5\u001b[1;33m \u001b[0mrem\u001b[0m \u001b[1;33m=\u001b[0m \u001b[0mnum\u001b[0m \u001b[1;33m%\u001b[0m \u001b[0mden\u001b[0m\u001b[1;33m\u001b[0m\u001b[0m\n\u001b[0m\u001b[0;32m      6\u001b[0m \u001b[1;33m\u001b[0m\u001b[0m\n\u001b[0;32m      7\u001b[0m \u001b[0mprint\u001b[0m\u001b[1;33m(\u001b[0m\u001b[1;34m\"The remainder is : \"\u001b[0m\u001b[1;33m,\u001b[0m \u001b[0mrem\u001b[0m\u001b[1;33m)\u001b[0m\u001b[1;33m\u001b[0m\u001b[0m\n",
      "\u001b[1;31mZeroDivisionError\u001b[0m: integer division or modulo by zero"
     ]
    }
   ],
   "source": [
    "print(\"Enter two numbers to find the remainder: \")\n",
    "num = int(input())\n",
    "den = int(input())\n",
    "\n",
    "rem = num % den\n",
    "\n",
    "print(\"The remainder is : \", rem)"
   ]
  },
  {
   "cell_type": "markdown",
   "metadata": {},
   "source": [
    "### with exception handling"
   ]
  },
  {
   "cell_type": "code",
   "execution_count": 9,
   "metadata": {},
   "outputs": [
    {
     "name": "stdout",
     "output_type": "stream",
     "text": [
      "Enter two numbers to find the remainder: \n",
      "12\n",
      "8\n",
      "The remainder is successfully obtained.\n",
      "I am happy to terminate the program gracefully.\n",
      "The remainder is :  4\n"
     ]
    }
   ],
   "source": [
    "print(\"Enter two numbers to find the remainder: \")\n",
    "num = int(input())\n",
    "den = int(input())\n",
    "\n",
    "try:\n",
    "    rem = num % den\n",
    "    print(\"The remainder is successfully obtained.\")\n",
    "except Exception as e:\n",
    "    print(\"An exception occoured\")\n",
    "    print(e)\n",
    "    rem = None\n",
    "finally:\n",
    "    print(\"I am happy to terminate the program gracefully.\")\n",
    "\n",
    "print(\"The remainder is : \", rem)"
   ]
  },
  {
   "cell_type": "code",
   "execution_count": 10,
   "metadata": {},
   "outputs": [
    {
     "name": "stdout",
     "output_type": "stream",
     "text": [
      "Enter two numbers to find the remainder: \n",
      "15\n",
      "0\n",
      "An exception occoured\n",
      "ErrorName: integer division or modulo by zero\n",
      "I am happy to terminate the program gracefully.\n",
      "The remainder is :  None\n"
     ]
    }
   ],
   "source": [
    "print(\"Enter two numbers to find the remainder: \")\n",
    "num = int(input())\n",
    "den = int(input())\n",
    "\n",
    "try:\n",
    "    rem = num % den\n",
    "    print(\"The remainder is successfully obtained.\")\n",
    "except Exception as e:\n",
    "    print(\"An exception occoured\")\n",
    "    print(\"ErrorName:\",e)\n",
    "    rem = None\n",
    "finally:\n",
    "    print(\"I am happy to terminate the program gracefully.\")\n",
    "\n",
    "print(\"The remainder is : \", rem)"
   ]
  },
  {
   "cell_type": "code",
   "execution_count": null,
   "metadata": {},
   "outputs": [],
   "source": []
  },
  {
   "cell_type": "code",
   "execution_count": null,
   "metadata": {},
   "outputs": [],
   "source": []
  },
  {
   "cell_type": "markdown",
   "metadata": {},
   "source": [
    "# Done by AKASH MAJI, akashmaji946@gmail.com\n",
    "## Day 6, Batch 3, Assignment FCS"
   ]
  },
  {
   "cell_type": "code",
   "execution_count": null,
   "metadata": {},
   "outputs": [],
   "source": []
  },
  {
   "cell_type": "code",
   "execution_count": null,
   "metadata": {},
   "outputs": [],
   "source": []
  }
 ],
 "metadata": {
  "kernelspec": {
   "display_name": "Python 3",
   "language": "python",
   "name": "python3"
  },
  "language_info": {
   "codemirror_mode": {
    "name": "ipython",
    "version": 3
   },
   "file_extension": ".py",
   "mimetype": "text/x-python",
   "name": "python",
   "nbconvert_exporter": "python",
   "pygments_lexer": "ipython3",
   "version": "3.7.0"
  }
 },
 "nbformat": 4,
 "nbformat_minor": 2
}
